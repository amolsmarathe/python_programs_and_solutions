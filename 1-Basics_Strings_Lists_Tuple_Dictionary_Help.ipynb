{
 "cells": [
  {
   "cell_type": "markdown",
   "metadata": {},
   "source": [
    "# Basics of Python"
   ]
  },
  {
   "cell_type": "markdown",
   "metadata": {},
   "source": [
    "# Strings (immutable)-->"
   ]
  },
  {
   "cell_type": "code",
   "execution_count": 8,
   "metadata": {
    "scrolled": true
   },
   "outputs": [
    {
     "data": {
      "text/plain": [
       "\"Amol's laptop is COOL\""
      ]
     },
     "execution_count": 8,
     "metadata": {},
     "output_type": "execute_result"
    }
   ],
   "source": [
    "'Amol\\'s laptop is COOL' # Use \\ to ignore single character like ‘ or \" in the string.\n"
   ]
  },
  {
   "cell_type": "code",
   "execution_count": 9,
   "metadata": {
    "scrolled": true
   },
   "outputs": [
    {
     "name": "stdout",
     "output_type": "stream",
     "text": [
      "Path is \"C:\\data\\new\"\n"
     ]
    }
   ],
   "source": [
    "print(r'Path is \"C:\\data\\new\"') # Use r inside print function to ignore all characters like \\ in the String\n",
    "\n",
    "# This is called raw string. This is only useful when there is \\n in the String which denotes next line by default\n",
    "# NOTE - this ignores only \\ does not ignore ' or \"\n"
   ]
  },
  {
   "cell_type": "code",
   "execution_count": 20,
   "metadata": {
    "scrolled": true
   },
   "outputs": [
    {
     "name": "stdout",
     "output_type": "stream",
     "text": [
      "Amol Marathe\n",
      "A\n",
      "mol\n",
      "ol Marathe\n",
      "Amol M\n",
      "a\n",
      "l Marathe\n",
      "Amol Marathe\n",
      "ehtaraM lomA\n",
      "mlMrte\n",
      "Amol MaratheAmol MaratheAmol MaratheAmol MaratheAmol Marathe\n"
     ]
    }
   ],
   "source": [
    "# String is always an array of characters\n",
    "\n",
    "name = 'Amol Marathe'\n",
    "print(name)      # prints only the value of variable without ' '\n",
    "print(name[0])          # prints first character in array\n",
    "print(name[1:4])        # prints charatcers 1 to 3 (it actually exculdes 4th character)\n",
    "print(name[2:])         # prints from 2 till end\n",
    "print(name[:6])         # prints from start till 6\n",
    "print(name[-4])         # prints 4th character in reverse order\n",
    "print(name[3:444])      # NO ERROR, prints from 3 till end in this case\n",
    "print(name[::])         # prints from start to end\n",
    "print(name[::-1])       # reverses the string, -1 is the step (might be a good interview question)\n",
    "print(name[1::2])       # prints from start to end with step of 2\n",
    "\n",
    "print(name*5)          # prints the name 5 times"
   ]
  },
  {
   "cell_type": "code",
   "execution_count": 11,
   "metadata": {
    "scrolled": true
   },
   "outputs": [
    {
     "ename": "SyntaxError",
     "evalue": "invalid syntax (<ipython-input-11-64b70b398ae1>, line 5)",
     "output_type": "error",
     "traceback": [
      "\u001b[1;36m  File \u001b[1;32m\"<ipython-input-11-64b70b398ae1>\"\u001b[1;36m, line \u001b[1;32m5\u001b[0m\n\u001b[1;33m    print(name * 5)          prints the name 5 times\u001b[0m\n\u001b[1;37m                                  ^\u001b[0m\n\u001b[1;31mSyntaxError\u001b[0m\u001b[1;31m:\u001b[0m invalid syntax\n"
     ]
    }
   ],
   "source": [
    "print('\\n Observe the Error--> \\n')      # Error condition given in next line\n",
    "\n",
    "print(name[0] = b)       # strings in python are immutable such changes cannot be done and gives an ERROR\n",
    "\n"
   ]
  },
  {
   "cell_type": "code",
   "execution_count": null,
   "metadata": {},
   "outputs": [],
   "source": [
    "len(name)         # to get the length of a string variable\n"
   ]
  },
  {
   "cell_type": "markdown",
   "metadata": {},
   "source": [
    "# List (mutable)-->\n",
    "# -use square brackets for creation unlike round brackets for tuple"
   ]
  },
  {
   "cell_type": "code",
   "execution_count": null,
   "metadata": {
    "scrolled": false
   },
   "outputs": [],
   "source": [
    "nums = [12,34,57,35,46,86]            # list of numbers\n",
    "list = [12, 'amol', 45]               # list of numbers and strings\n",
    "names = ['john', 'maria', 'paul']     # list of strings\n",
    "combinedlist = [nums, names]          # list of lists\n",
    "\n",
    "print(nums)                           # print list\n",
    "print(\"--> this is nums list \\n\")\n",
    "\n",
    "print(names)                          # print list\n",
    "print(\"--> this is names list \\n\")\n",
    "\n",
    "print(combinedlist)                   # print list\n",
    "print(\"--> this is combined list \\n\")\n",
    "\n",
    "nums.append(50)                # appending a value to the list as list is mutable unlike string array\n",
    "print(nums)\n",
    "print(\"--> appended 50 at the end of the nums list \\n\")\n",
    "\n",
    "nums.insert(2,99)              # insert a value in the list at index 2\n",
    "print(nums)\n",
    "print(\"--> inserted 99 at index 2 of the nums list \\n\")\n",
    "\n",
    "nums.remove(86)                # removing an exact value 86\n",
    "print(nums)\n",
    "print(\"--> removed a value 86 from the nums list \\n\")\n",
    "\n",
    "nums.pop(3)                    # removing a value at index 3. NOTE: According to the data structures, there are 2\n",
    "                               # options- push (pushing the elements in stack) and pop (removing the element)\n",
    "print(nums)\n",
    "print(\"--> removed the value at index 3 of the nums list \\n\")\n",
    "\n",
    "nums.pop()                     # pop command without any argument removed the last value in the list\n",
    "print(nums)\n",
    "print(\"--> removed the last value in the nums list \\n\")\n",
    "\n",
    "del nums[2:]                   # delete multiple values from the list (from inde2 onwards)\n",
    "print(nums)\n",
    "print(\"--> removed multiple values from index 2 till end of the nums list \\n\")\n",
    "\n",
    "nums.extend([11,22,33])     # append multiple values at the end of the nums list\n",
    "print(nums)\n",
    "print(\"--> appended multiple values at the end of the nums list \\n\")\n",
    "\n",
    "print(min(nums), max(nums), sum(nums))             # min, max and sum of the list items\n",
    "print(\"--> min, max and sum of the nums list \\n\")\n",
    "\n",
    "nums.sort()                    # sorting of the list items\n",
    "print(nums)\n",
    "print(\"--> sorted all the values of the nums list \\n\")"
   ]
  },
  {
   "cell_type": "markdown",
   "metadata": {},
   "source": [
    "# Tuple (immutable list)-->\n",
    "# -use round brackets for creation (BUT use square brackets for fetching values similar to lists)\n",
    "# -being immutable, iterations in tuple are faster than list (high performance)"
   ]
  },
  {
   "cell_type": "code",
   "execution_count": null,
   "metadata": {},
   "outputs": [],
   "source": [
    "tup = (11, 22, 33, 44)         # use round brackets for creation unlike square brackets for the list\n",
    "print(tup)\n",
    "print('--> this is a tuple \\n \\n \\n')\n",
    "\n",
    "print('Now let us try to modify the tuple and see the ERROR-->\\n')\n",
    "tup[1] = 11                    # this will give an error beacuse it is not possible to change the value in tuple\n"
   ]
  },
  {
   "cell_type": "markdown",
   "metadata": {},
   "source": [
    "# Set (mutable but unordered collection of items)-->\n",
    "# -use curly brackets for creation\n",
    "# -no index support to fetch items since there is no order\n",
    "# -use square brackets to fetch the value by its value directly\n",
    "# -values cannot repeat, each value must be unique"
   ]
  },
  {
   "cell_type": "code",
   "execution_count": null,
   "metadata": {},
   "outputs": [],
   "source": [
    "s = {92,48,57,33,68,46}             # set is a collection of unordered items\n",
    "print(s)\n",
    "print('--> this is a set \\n')\n",
    "\n",
    "s.remove(33)\n",
    "print(s)\n",
    "print('--> removed item 33 from the set \\n')"
   ]
  },
  {
   "cell_type": "markdown",
   "metadata": {},
   "source": [
    "# Dictionary (key:value pair where key is immutable & unique)-->\n",
    "# -use curly brackets for creation"
   ]
  },
  {
   "cell_type": "code",
   "execution_count": null,
   "metadata": {},
   "outputs": [],
   "source": [
    "data = {1:'Amol', 2:'John', 4:'Sarah'}    # create dictionary using curly brackets and key:value pairs\n",
    "print(data)\n",
    "print('--> this is a disctionary \\n')\n",
    "\n",
    "print(data[1])                            # fetch the value of a key using square brackets\n",
    "print('--> this is the value of key 1 \\n\\n\\n')\n",
    "\n",
    "print('Let us observe the ERROR when fetching the invalid key--> \\n')\n",
    "print(data[3])                            # fetch invalid key and observe the error\n",
    "print('\\n')\n",
    "\n",
    "\n"
   ]
  },
  {
   "cell_type": "code",
   "execution_count": null,
   "metadata": {},
   "outputs": [],
   "source": [
    "print(data.get(3))                        # NO ERROR even if it is an invalid key\n",
    "print('--> NO error even if the key 3 is invalid \\n')\n",
    "\n",
    "print(data.get(3, 'NOT FOUND'))             # print message when invalid key is fetched\n",
    "print('--> Message shown when invalid key 3 is fetched \\n')"
   ]
  },
  {
   "cell_type": "code",
   "execution_count": null,
   "metadata": {},
   "outputs": [],
   "source": [
    "print('Let us create a disctionary using below 2 lists \\n')\n",
    "\n",
    "keys = [1, 2, 4]\n",
    "values = ['John', 'Peter', 'Sarah']\n",
    "print(keys)\n",
    "print('--> This is the list of keys \\n')\n",
    "print(values)\n",
    "print('--> This is the list of values \\n')\n",
    "\n",
    "data2 = dict(zip(keys,values))               # creating a dictionary using 2 lists\n",
    "print(data2)\n",
    "print('--> This is the dictionary created using 2 lists keys and values \\n')\n",
    "\n",
    "\n",
    "data2 [3] = 'Mathew'                         # adding new key:value pair to a dictionary\n",
    "print(data2)\n",
    "print('--> added new key:value pair to the dictionary \\n')\n",
    "\n",
    "\n",
    "del data2[2]                              # removing a key:value pair by removing a key ONLY\n",
    "print(data2)\n",
    "print('--> removed a key:value pair from the dictionary \\n\\n\\n')\n"
   ]
  },
  {
   "cell_type": "markdown",
   "metadata": {},
   "source": [
    "Dictionary of key : 'list of values'\n",
    "OR\n",
    "Dictionary of Dictionaries -->\n"
   ]
  },
  {
   "cell_type": "code",
   "execution_count": null,
   "metadata": {},
   "outputs": [],
   "source": [
    "superdic = {'JS':'ATOM', 'CS':'VS', 'Python':['Pycharm','Sublime'], 'Java':{'JSE':'Netbeans', 'JEE':'Eclipse'}}\n",
    "            \n",
    "            # creating a dictionary with key and 'list of values' OR dictionary of dictionaries\n",
    "\n",
    "print(superdic)\n",
    "print('--> this is a dictionary of key and \\'list of values\\' and a dictionary of dictionaries \\n')\n",
    "\n",
    "print(superdic['Python'])                  # accessing a list of values associated to a single key in a disctionary\n",
    "print('--> accessing a list of values associated to a single key in a disctionary \\n')\n",
    "\n",
    "print(superdic['Java']['JSE'])                    # accessing a value within disctionary of a disctionaty\n",
    "print('--> accessing a value within disctionary of a disctionaty \\n')\n"
   ]
  },
  {
   "cell_type": "code",
   "execution_count": 5,
   "metadata": {},
   "outputs": [
    {
     "name": "stdout",
     "output_type": "stream",
     "text": [
      "\n",
      "Welcome to Python 3.7's help utility!\n",
      "\n",
      "If this is your first time using Python, you should definitely check out\n",
      "the tutorial on the Internet at https://docs.python.org/3.7/tutorial/.\n",
      "\n",
      "Enter the name of any module, keyword, or topic to get help on writing\n",
      "Python programs and using Python modules.  To quit this help utility and\n",
      "return to the interpreter, just type \"quit\".\n",
      "\n",
      "To get a list of available modules, keywords, symbols, or topics, type\n",
      "\"modules\", \"keywords\", \"symbols\", or \"topics\".  Each module also comes\n",
      "with a one-line summary of what it does; to list the modules whose name\n",
      "or summary contain a given string such as \"spam\", type \"modules spam\".\n",
      "\n",
      "help> topics\n",
      "\n",
      "Here is a list of available topics.  Enter any topic name to get more help.\n",
      "\n",
      "ASSERTION           DELETION            LOOPING             SHIFTING\n",
      "ASSIGNMENT          DICTIONARIES        MAPPINGMETHODS      SLICINGS\n",
      "ATTRIBUTEMETHODS    DICTIONARYLITERALS  MAPPINGS            SPECIALATTRIBUTES\n",
      "ATTRIBUTES          DYNAMICFEATURES     METHODS             SPECIALIDENTIFIERS\n",
      "AUGMENTEDASSIGNMENT ELLIPSIS            MODULES             SPECIALMETHODS\n",
      "BASICMETHODS        EXCEPTIONS          NAMESPACES          STRINGMETHODS\n",
      "BINARY              EXECUTION           NONE                STRINGS\n",
      "BITWISE             EXPRESSIONS         NUMBERMETHODS       SUBSCRIPTS\n",
      "BOOLEAN             FLOAT               NUMBERS             TRACEBACKS\n",
      "CALLABLEMETHODS     FORMATTING          OBJECTS             TRUTHVALUE\n",
      "CALLS               FRAMEOBJECTS        OPERATORS           TUPLELITERALS\n",
      "CLASSES             FRAMES              PACKAGES            TUPLES\n",
      "CODEOBJECTS         FUNCTIONS           POWER               TYPEOBJECTS\n",
      "COMPARISON          IDENTIFIERS         PRECEDENCE          TYPES\n",
      "COMPLEX             IMPORTING           PRIVATENAMES        UNARY\n",
      "CONDITIONAL         INTEGER             RETURNING           UNICODE\n",
      "CONTEXTMANAGERS     LISTLITERALS        SCOPING             \n",
      "CONVERSIONS         LISTS               SEQUENCEMETHODS     \n",
      "DEBUGGING           LITERALS            SEQUENCES           \n",
      "\n",
      "help> LISTS\n",
      "Mutable Sequence Types\n",
      "**********************\n",
      "\n",
      "The operations in the following table are defined on mutable sequence\n",
      "types. The \"collections.abc.MutableSequence\" ABC is provided to make\n",
      "it easier to correctly implement these operations on custom sequence\n",
      "types.\n",
      "\n",
      "In the table *s* is an instance of a mutable sequence type, *t* is any\n",
      "iterable object and *x* is an arbitrary object that meets any type and\n",
      "value restrictions imposed by *s* (for example, \"bytearray\" only\n",
      "accepts integers that meet the value restriction \"0 <= x <= 255\").\n",
      "\n",
      "+--------------------------------+----------------------------------+-----------------------+\n",
      "| Operation                      | Result                           | Notes                 |\n",
      "|================================|==================================|=======================|\n",
      "| \"s[i] = x\"                     | item *i* of *s* is replaced by   |                       |\n",
      "|                                | *x*                              |                       |\n",
      "+--------------------------------+----------------------------------+-----------------------+\n",
      "| \"s[i:j] = t\"                   | slice of *s* from *i* to *j* is  |                       |\n",
      "|                                | replaced by the contents of the  |                       |\n",
      "|                                | iterable *t*                     |                       |\n",
      "+--------------------------------+----------------------------------+-----------------------+\n",
      "| \"del s[i:j]\"                   | same as \"s[i:j] = []\"            |                       |\n",
      "+--------------------------------+----------------------------------+-----------------------+\n",
      "| \"s[i:j:k] = t\"                 | the elements of \"s[i:j:k]\" are   | (1)                   |\n",
      "|                                | replaced by those of *t*         |                       |\n",
      "+--------------------------------+----------------------------------+-----------------------+\n",
      "| \"del s[i:j:k]\"                 | removes the elements of          |                       |\n",
      "|                                | \"s[i:j:k]\" from the list         |                       |\n",
      "+--------------------------------+----------------------------------+-----------------------+\n",
      "| \"s.append(x)\"                  | appends *x* to the end of the    |                       |\n",
      "|                                | sequence (same as                |                       |\n",
      "|                                | \"s[len(s):len(s)] = [x]\")        |                       |\n",
      "+--------------------------------+----------------------------------+-----------------------+\n",
      "| \"s.clear()\"                    | removes all items from *s* (same | (5)                   |\n",
      "|                                | as \"del s[:]\")                   |                       |\n",
      "+--------------------------------+----------------------------------+-----------------------+\n",
      "| \"s.copy()\"                     | creates a shallow copy of *s*    | (5)                   |\n",
      "|                                | (same as \"s[:]\")                 |                       |\n",
      "+--------------------------------+----------------------------------+-----------------------+\n",
      "| \"s.extend(t)\" or \"s += t\"      | extends *s* with the contents of |                       |\n",
      "|                                | *t* (for the most part the same  |                       |\n",
      "|                                | as \"s[len(s):len(s)] = t\")       |                       |\n",
      "+--------------------------------+----------------------------------+-----------------------+\n",
      "| \"s *= n\"                       | updates *s* with its contents    | (6)                   |\n",
      "|                                | repeated *n* times               |                       |\n",
      "+--------------------------------+----------------------------------+-----------------------+\n",
      "| \"s.insert(i, x)\"               | inserts *x* into *s* at the      |                       |\n",
      "|                                | index given by *i* (same as      |                       |\n",
      "|                                | \"s[i:i] = [x]\")                  |                       |\n",
      "+--------------------------------+----------------------------------+-----------------------+\n",
      "| \"s.pop([i])\"                   | retrieves the item at *i* and    | (2)                   |\n",
      "|                                | also removes it from *s*         |                       |\n",
      "+--------------------------------+----------------------------------+-----------------------+\n",
      "| \"s.remove(x)\"                  | remove the first item from *s*   | (3)                   |\n",
      "|                                | where \"s[i]\" is equal to *x*     |                       |\n",
      "+--------------------------------+----------------------------------+-----------------------+\n",
      "| \"s.reverse()\"                  | reverses the items of *s* in     | (4)                   |\n",
      "|                                | place                            |                       |\n",
      "+--------------------------------+----------------------------------+-----------------------+\n",
      "\n",
      "Notes:\n",
      "\n",
      "1. *t* must have the same length as the slice it is replacing.\n",
      "\n",
      "2. The optional argument *i* defaults to \"-1\", so that by default\n",
      "   the last item is removed and returned.\n",
      "\n",
      "3. \"remove\" raises \"ValueError\" when *x* is not found in *s*.\n",
      "\n",
      "4. The \"reverse()\" method modifies the sequence in place for\n",
      "   economy of space when reversing a large sequence.  To remind users\n",
      "   that it operates by side effect, it does not return the reversed\n",
      "   sequence.\n",
      "\n",
      "5. \"clear()\" and \"copy()\" are included for consistency with the\n",
      "   interfaces of mutable containers that don’t support slicing\n",
      "   operations (such as \"dict\" and \"set\")\n",
      "\n",
      "   New in version 3.3: \"clear()\" and \"copy()\" methods.\n",
      "\n",
      "6. The value *n* is an integer, or an object implementing\n",
      "   \"__index__()\".  Zero and negative values of *n* clear the sequence.\n",
      "   Items in the sequence are not copied; they are referenced multiple\n",
      "   times, as explained for \"s * n\" under Common Sequence Operations.\n",
      "\n",
      "Related help topics: LISTLITERALS\n",
      "\n",
      "help> \n",
      "\n",
      "You are now leaving help and returning to the Python interpreter.\n",
      "If you want to ask for help on a particular object directly from the\n",
      "interpreter, you can type \"help(object)\".  Executing \"help('string')\"\n",
      "has the same effect as typing a particular string at the help> prompt.\n"
     ]
    }
   ],
   "source": [
    "help()                # to get all the help"
   ]
  },
  {
   "cell_type": "code",
   "execution_count": 11,
   "metadata": {},
   "outputs": [
    {
     "name": "stdout",
     "output_type": "stream",
     "text": [
      "\n",
      "Here is a list of available topics.  Enter any topic name to get more help.\n",
      "\n",
      "ASSERTION           DELETION            LOOPING             SHIFTING\n",
      "ASSIGNMENT          DICTIONARIES        MAPPINGMETHODS      SLICINGS\n",
      "ATTRIBUTEMETHODS    DICTIONARYLITERALS  MAPPINGS            SPECIALATTRIBUTES\n",
      "ATTRIBUTES          DYNAMICFEATURES     METHODS             SPECIALIDENTIFIERS\n",
      "AUGMENTEDASSIGNMENT ELLIPSIS            MODULES             SPECIALMETHODS\n",
      "BASICMETHODS        EXCEPTIONS          NAMESPACES          STRINGMETHODS\n",
      "BINARY              EXECUTION           NONE                STRINGS\n",
      "BITWISE             EXPRESSIONS         NUMBERMETHODS       SUBSCRIPTS\n",
      "BOOLEAN             FLOAT               NUMBERS             TRACEBACKS\n",
      "CALLABLEMETHODS     FORMATTING          OBJECTS             TRUTHVALUE\n",
      "CALLS               FRAMEOBJECTS        OPERATORS           TUPLELITERALS\n",
      "CLASSES             FRAMES              PACKAGES            TUPLES\n",
      "CODEOBJECTS         FUNCTIONS           POWER               TYPEOBJECTS\n",
      "COMPARISON          IDENTIFIERS         PRECEDENCE          TYPES\n",
      "COMPLEX             IMPORTING           PRIVATENAMES        UNARY\n",
      "CONDITIONAL         INTEGER             RETURNING           UNICODE\n",
      "CONTEXTMANAGERS     LISTLITERALS        SCOPING             \n",
      "CONVERSIONS         LISTS               SEQUENCEMETHODS     \n",
      "DEBUGGING           LITERALS            SEQUENCES           \n",
      "\n",
      "Mutable Sequence Types\n",
      "**********************\n",
      "\n",
      "The operations in the following table are defined on mutable sequence\n",
      "types. The \"collections.abc.MutableSequence\" ABC is provided to make\n",
      "it easier to correctly implement these operations on custom sequence\n",
      "types.\n",
      "\n",
      "In the table *s* is an instance of a mutable sequence type, *t* is any\n",
      "iterable object and *x* is an arbitrary object that meets any type and\n",
      "value restrictions imposed by *s* (for example, \"bytearray\" only\n",
      "accepts integers that meet the value restriction \"0 <= x <= 255\").\n",
      "\n",
      "+--------------------------------+----------------------------------+-----------------------+\n",
      "| Operation                      | Result                           | Notes                 |\n",
      "|================================|==================================|=======================|\n",
      "| \"s[i] = x\"                     | item *i* of *s* is replaced by   |                       |\n",
      "|                                | *x*                              |                       |\n",
      "+--------------------------------+----------------------------------+-----------------------+\n",
      "| \"s[i:j] = t\"                   | slice of *s* from *i* to *j* is  |                       |\n",
      "|                                | replaced by the contents of the  |                       |\n",
      "|                                | iterable *t*                     |                       |\n",
      "+--------------------------------+----------------------------------+-----------------------+\n",
      "| \"del s[i:j]\"                   | same as \"s[i:j] = []\"            |                       |\n",
      "+--------------------------------+----------------------------------+-----------------------+\n",
      "| \"s[i:j:k] = t\"                 | the elements of \"s[i:j:k]\" are   | (1)                   |\n",
      "|                                | replaced by those of *t*         |                       |\n",
      "+--------------------------------+----------------------------------+-----------------------+\n",
      "| \"del s[i:j:k]\"                 | removes the elements of          |                       |\n",
      "|                                | \"s[i:j:k]\" from the list         |                       |\n",
      "+--------------------------------+----------------------------------+-----------------------+\n",
      "| \"s.append(x)\"                  | appends *x* to the end of the    |                       |\n",
      "|                                | sequence (same as                |                       |\n",
      "|                                | \"s[len(s):len(s)] = [x]\")        |                       |\n",
      "+--------------------------------+----------------------------------+-----------------------+\n",
      "| \"s.clear()\"                    | removes all items from *s* (same | (5)                   |\n",
      "|                                | as \"del s[:]\")                   |                       |\n",
      "+--------------------------------+----------------------------------+-----------------------+\n",
      "| \"s.copy()\"                     | creates a shallow copy of *s*    | (5)                   |\n",
      "|                                | (same as \"s[:]\")                 |                       |\n",
      "+--------------------------------+----------------------------------+-----------------------+\n",
      "| \"s.extend(t)\" or \"s += t\"      | extends *s* with the contents of |                       |\n",
      "|                                | *t* (for the most part the same  |                       |\n",
      "|                                | as \"s[len(s):len(s)] = t\")       |                       |\n",
      "+--------------------------------+----------------------------------+-----------------------+\n",
      "| \"s *= n\"                       | updates *s* with its contents    | (6)                   |\n",
      "|                                | repeated *n* times               |                       |\n",
      "+--------------------------------+----------------------------------+-----------------------+\n",
      "| \"s.insert(i, x)\"               | inserts *x* into *s* at the      |                       |\n",
      "|                                | index given by *i* (same as      |                       |\n",
      "|                                | \"s[i:i] = [x]\")                  |                       |\n",
      "+--------------------------------+----------------------------------+-----------------------+\n",
      "| \"s.pop([i])\"                   | retrieves the item at *i* and    | (2)                   |\n",
      "|                                | also removes it from *s*         |                       |\n",
      "+--------------------------------+----------------------------------+-----------------------+\n",
      "| \"s.remove(x)\"                  | remove the first item from *s*   | (3)                   |\n",
      "|                                | where \"s[i]\" is equal to *x*     |                       |\n",
      "+--------------------------------+----------------------------------+-----------------------+\n",
      "| \"s.reverse()\"                  | reverses the items of *s* in     | (4)                   |\n",
      "|                                | place                            |                       |\n",
      "+--------------------------------+----------------------------------+-----------------------+\n",
      "\n",
      "Notes:\n",
      "\n",
      "1. *t* must have the same length as the slice it is replacing.\n",
      "\n",
      "2. The optional argument *i* defaults to \"-1\", so that by default\n",
      "   the last item is removed and returned.\n",
      "\n",
      "3. \"remove\" raises \"ValueError\" when *x* is not found in *s*.\n",
      "\n",
      "4. The \"reverse()\" method modifies the sequence in place for\n",
      "   economy of space when reversing a large sequence.  To remind users\n",
      "   that it operates by side effect, it does not return the reversed\n",
      "   sequence.\n",
      "\n",
      "5. \"clear()\" and \"copy()\" are included for consistency with the\n",
      "   interfaces of mutable containers that don’t support slicing\n",
      "   operations (such as \"dict\" and \"set\")\n",
      "\n",
      "   New in version 3.3: \"clear()\" and \"copy()\" methods.\n",
      "\n",
      "6. The value *n* is an integer, or an object implementing\n",
      "   \"__index__()\".  Zero and negative values of *n* clear the sequence.\n",
      "   Items in the sequence are not copied; they are referenced multiple\n",
      "   times, as explained for \"s * n\" under Common Sequence Operations.\n",
      "\n",
      "Related help topics: LISTLITERALS\n",
      "\n"
     ]
    }
   ],
   "source": [
    "help('topics')        # to get specific help on \"topics\"\n",
    "\n",
    "help('LISTS')         # to get specific help on \"LISTS\"\n",
    "\n",
    "# ???????????NOTE: After runnig this specific command, all other cells cannot be run dont know WHY????????????????"
   ]
  }
 ],
 "metadata": {
  "kernelspec": {
   "display_name": "Python 3",
   "language": "python",
   "name": "python3"
  },
  "language_info": {
   "codemirror_mode": {
    "name": "ipython",
    "version": 3
   },
   "file_extension": ".py",
   "mimetype": "text/x-python",
   "name": "python",
   "nbconvert_exporter": "python",
   "pygments_lexer": "ipython3",
   "version": "3.7.6"
  }
 },
 "nbformat": 4,
 "nbformat_minor": 4
}
