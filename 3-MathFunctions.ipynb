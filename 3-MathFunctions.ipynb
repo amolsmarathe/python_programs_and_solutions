{
 "cells": [
  {
   "cell_type": "markdown",
   "metadata": {},
   "source": [
    "# Math functions:\n",
    "# 1. import math OR\n",
    "# 2. from math import pow,sqrt OR\n",
    "# 3. import math as m"
   ]
  },
  {
   "cell_type": "code",
   "execution_count": 1,
   "metadata": {},
   "outputs": [
    {
     "name": "stdout",
     "output_type": "stream",
     "text": [
      "5.0\n",
      "--> This is square root of 25 \n",
      "\n",
      "3.141592653589793\n",
      "--> This is the value of constant y=pi \n",
      "\n",
      "2.718281828459045\n",
      "--> This is the value of constand z=epselon \n",
      "\n",
      "2\n",
      "--> This is round off value of z to closest MINIMUM whole number  \n",
      "\n",
      "4\n",
      "--> This is round off value of y to closest MAXIMUM whole number  \n",
      "\n",
      "9.0\n",
      "--> This is 3 to the power 2, using pow function  \n",
      "\n",
      "6.0\n",
      "--> This is square root of 36 using alias of math function which is m  \n",
      "\n"
     ]
    }
   ],
   "source": [
    "import math              # import the full math function\n",
    "\n",
    "x=math.sqrt(25)          # calculate squre root\n",
    "print(x)\n",
    "print('--> This is square root of 25 \\n')\n",
    "\n",
    "y=math.pi                # value of constant pi\n",
    "print(y)\n",
    "print('--> This is the value of constant y=pi \\n')\n",
    "\n",
    "z=math.e                # value of constant epselon\n",
    "print(z)\n",
    "print('--> This is the value of constand z=epselon \\n')\n",
    "\n",
    "print(math.floor(z))    # calculate round-off value to closest MINIMUM whole number, irrespective of decimal value\n",
    "print('--> This is round off value of z to closest MINIMUM whole number  \\n')\n",
    "\n",
    "\n",
    "print(math.ceil(y))     # calculate round-off value to closest MAXIMUM whole number, irrespective of decimal value\n",
    "print('--> This is round off value of y to closest MAXIMUM whole number  \\n')\n",
    "\n",
    "print(math.pow(3,2))    # calculate 3 to the power 2\n",
    "print('--> This is 3 to the power 2, using pow function  \\n')\n",
    "\n",
    "\n",
    "\n",
    "from math import pow,sqrt     # import only pow and swrt functions from math\n",
    "\n",
    "\n",
    "\n",
    "import math as m       # import math as an alias m so that you can call any function using m instead of math\n",
    "\n",
    "print(m.sqrt(36))\n",
    "print('--> This is square root of 36 using alias of math function which is m  \\n')\n"
   ]
  }
 ],
 "metadata": {
  "kernelspec": {
   "display_name": "Python 3",
   "language": "python",
   "name": "python3"
  },
  "language_info": {
   "codemirror_mode": {
    "name": "ipython",
    "version": 3
   },
   "file_extension": ".py",
   "mimetype": "text/x-python",
   "name": "python",
   "nbconvert_exporter": "python",
   "pygments_lexer": "ipython3",
   "version": "3.7.6"
  }
 },
 "nbformat": 4,
 "nbformat_minor": 4
}
