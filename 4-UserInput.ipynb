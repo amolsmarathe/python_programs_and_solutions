{
 "cells": [
  {
   "cell_type": "markdown",
   "metadata": {},
   "source": [
    "# User inputs (always of type string):"
   ]
  },
  {
   "cell_type": "code",
   "execution_count": 5,
   "metadata": {},
   "outputs": [
    {
     "name": "stdout",
     "output_type": "stream",
     "text": [
      "Enter Value1: 20\n",
      "--> This is your Value1 \n",
      "\n",
      "<class 'str'>\n",
      "--> Observe the type of Value1 you just entered. It is String. \n",
      "\n",
      "\n",
      "\n",
      "Let us now take the Value1 from you and convert it to integer right away. \n",
      "\n",
      "Enter Value1 again: 20\n",
      "--> This is your Value1 \n",
      "\n",
      "<class 'int'>\n",
      "--> Observe the type of Value1 you just entered. It is now Integer. \n",
      "\n",
      "\n",
      "\n",
      "Enter Value2: 30\n",
      "--> This is your Value2 \n",
      "\n",
      "<class 'int'>\n",
      "--> Observe the type of Value2 you just entered. It is now Integer. \n",
      "\n",
      "\n",
      "\n",
      "50\n",
      "--> This is addition of your Value1 and Value2. \n",
      " Have a nice day. \n",
      "\n"
     ]
    }
   ],
   "source": [
    "x = input('Enter Value1: ')           # displays the message and waits for user input\n",
    "                                      # NOTE: whatever user enters, it is always considered as string\n",
    "                                      # NOTE: After user input, IT PRINTS the message and input BOTH\n",
    "print('--> This is your Value1 \\n')\n",
    "print(type(x))\n",
    "print('--> Observe the type of Value1 you just entered. It is String. \\n\\n\\n')\n",
    "\n",
    "\n",
    "print('Let us now take the Value1 from you and convert it to integer right away. \\n')\n",
    "x = int(input('Enter Value1 again: '))   # convert the input value into integer right away.\n",
    "print('--> This is your Value1 \\n')\n",
    "print(type(x))\n",
    "print('--> Observe the type of Value1 you just entered. It is now Integer. \\n\\n\\n')\n",
    "\n",
    "y = int(input(\"Enter Value2: \"))\n",
    "print('--> This is your Value2 \\n')\n",
    "print(type(y))\n",
    "print('--> Observe the type of Value2 you just entered. It is now Integer. \\n\\n\\n')\n",
    "\n",
    "\n",
    "print(x + y)\n",
    "print('--> This is addition of your Value1 and Value2. \\n Have a nice day. \\n')"
   ]
  },
  {
   "cell_type": "markdown",
   "metadata": {},
   "source": [
    "# Take an expression as input and give result:"
   ]
  },
  {
   "cell_type": "code",
   "execution_count": 11,
   "metadata": {},
   "outputs": [
    {
     "name": "stdout",
     "output_type": "stream",
     "text": [
      "Enter your expression to calculate: 9 -2 * 3\n",
      "3\n"
     ]
    }
   ],
   "source": [
    "a = eval(input('Enter your expression to calculate: '))   # eval function can be used for this\n",
    "                             # NOTE: we should not use int to convert as user wont enter a number but an expression\n",
    "                             # This will also consider default order of calculation. Try for: 9 - 2 *3\n",
    "print(a)"
   ]
  },
  {
   "cell_type": "markdown",
   "metadata": {},
   "source": [
    "# Input argumets while running python file from cmd: (filename.py arg1 arg2 )"
   ]
  },
  {
   "cell_type": "code",
   "execution_count": 13,
   "metadata": {},
   "outputs": [],
   "source": [
    "# Do not run this here in Jupyter. Create a python files and run from cmd by giving command line arguments\n",
    "\n",
    "import sys                 # import of sys is mandatory as argv function is available in sys\n",
    "\n",
    "\n",
    "b = int(sys.argv[1])       # again, the input needs to be converted to interger as it is String by default\n",
    "c = int(sys.argv[2])\n",
    "\n",
    "print(b+c)\n",
    "print('--> This is the addition of 2 numbers you passed as an argument while runnig this file. \\n')"
   ]
  },
  {
   "cell_type": "code",
   "execution_count": null,
   "metadata": {},
   "outputs": [],
   "source": []
  }
 ],
 "metadata": {
  "kernelspec": {
   "display_name": "Python 3",
   "language": "python",
   "name": "python3"
  },
  "language_info": {
   "codemirror_mode": {
    "name": "ipython",
    "version": 3
   },
   "file_extension": ".py",
   "mimetype": "text/x-python",
   "name": "python",
   "nbconvert_exporter": "python",
   "pygments_lexer": "ipython3",
   "version": "3.7.6"
  }
 },
 "nbformat": 4,
 "nbformat_minor": 4
}
