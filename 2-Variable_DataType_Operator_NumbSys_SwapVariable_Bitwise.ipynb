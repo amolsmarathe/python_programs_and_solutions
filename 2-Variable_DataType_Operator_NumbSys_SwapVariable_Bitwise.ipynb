{
 "cells": [
  {
   "cell_type": "markdown",
   "metadata": {},
   "source": [
    "# Variables-->\n",
    "# -each variable has an id\n",
    "# -id depends on the value NOT the variable name\n",
    "# -assign new varible= old variable, both will have same id due to same value"
   ]
  },
  {
   "cell_type": "code",
   "execution_count": 12,
   "metadata": {},
   "outputs": [
    {
     "name": "stdout",
     "output_type": "stream",
     "text": [
      "140727369769488\n",
      "--> This is id of the variable num \n",
      "\n",
      "140727369769648\n",
      "140727369769648\n",
      "--> Both the ids/addresses of a & b are same \n",
      "\n"
     ]
    }
   ],
   "source": [
    "num = 5                # each variable has an address called id\n",
    "print(id(num))         # this is how to get id of a variable\n",
    "print('--> This is id of the variable num \\n')\n",
    "\n",
    "\n",
    "a = 10\n",
    "b = a                  # when 2 variables have same value, they have unique id/address. NO DUPLICATION in python\n",
    "print(id(a))\n",
    "print(id(b))\n",
    "print('--> Both the ids/addresses of a & b are same \\n')\n"
   ]
  },
  {
   "cell_type": "markdown",
   "metadata": {},
   "source": [
    "# No 'constant' in python\n",
    "# -just use capital letters to denote a 'constant'"
   ]
  },
  {
   "cell_type": "code",
   "execution_count": 13,
   "metadata": {},
   "outputs": [],
   "source": [
    "PI = 3.14               # we cannot define constants in python we simply use denotion of capital letters\n",
    "                        # to indicate that this is a constant and do not change it manually.\n",
    "    \n",
    "    "
   ]
  },
  {
   "cell_type": "markdown",
   "metadata": {},
   "source": [
    "# Data types-->\n",
    "# 1. None: Variable without any value"
   ]
  },
  {
   "cell_type": "code",
   "execution_count": 3,
   "metadata": {
    "scrolled": true
   },
   "outputs": [
    {
     "ename": "NameError",
     "evalue": "name 'var' is not defined",
     "output_type": "error",
     "traceback": [
      "\u001b[1;31m---------------------------------------------------------------------------\u001b[0m",
      "\u001b[1;31mNameError\u001b[0m                                 Traceback (most recent call last)",
      "\u001b[1;32m<ipython-input-3-bdefb25c5f88>\u001b[0m in \u001b[0;36m<module>\u001b[1;34m\u001b[0m\n\u001b[1;32m----> 1\u001b[1;33m \u001b[0mvar\u001b[0m                     \u001b[1;31m# None type - ?????????? HOW TO DEFINE AND PRINT NONE type of variable ???????????\u001b[0m\u001b[1;33m\u001b[0m\u001b[1;33m\u001b[0m\u001b[0m\n\u001b[0m\u001b[0;32m      2\u001b[0m \u001b[0mprint\u001b[0m\u001b[1;33m(\u001b[0m\u001b[0mtype\u001b[0m\u001b[1;33m(\u001b[0m\u001b[0mnum\u001b[0m\u001b[1;33m)\u001b[0m\u001b[1;33m)\u001b[0m\u001b[1;33m\u001b[0m\u001b[1;33m\u001b[0m\u001b[0m\n\u001b[0;32m      3\u001b[0m \u001b[0mprint\u001b[0m\u001b[1;33m(\u001b[0m\u001b[1;34m'--> This is an integer type \\n'\u001b[0m\u001b[1;33m)\u001b[0m\u001b[1;33m\u001b[0m\u001b[1;33m\u001b[0m\u001b[0m\n",
      "\u001b[1;31mNameError\u001b[0m: name 'var' is not defined"
     ]
    }
   ],
   "source": [
    "var                     # None type - ?????????? HOW TO DEFINE AND PRINT NONE type of variable ???????????\n",
    "print(type(num))\n",
    "print('--> This is an integer type \\n')"
   ]
  },
  {
   "cell_type": "markdown",
   "metadata": {},
   "source": [
    "\n",
    "# 2. Numeric: int, float, complex, bool\n"
   ]
  },
  {
   "cell_type": "code",
   "execution_count": 78,
   "metadata": {},
   "outputs": [
    {
     "name": "stdout",
     "output_type": "stream",
     "text": [
      "43\n",
      "<class 'int'>\n",
      "--> This is an integer type \n",
      "\n",
      "57.34\n",
      "<class 'float'>\n",
      "--> This is a float type \n",
      "\n",
      "(23+5j)\n",
      "<class 'complex'>\n",
      "--> This is a complex type \n",
      "\n",
      "57\n",
      "<class 'int'>\n",
      "--> d is converted to integer and assigned to f \n",
      "\n",
      "43.0\n",
      "<class 'float'>\n",
      "--> c is converted to integer and assigned to f \n",
      "\n",
      "(43+57j)\n",
      "<class 'complex'>\n",
      "--> complex number is created from c and f \n",
      "\n",
      "False\n",
      "<class 'bool'>\n",
      "--> This is boolian type got by checking a condition whether c>d \n",
      "\n",
      "0\n",
      "--> boolian m(false) is converted to integer(0) \n",
      "\n",
      "True\n",
      "--> Directly assigned boolian \n",
      "\n"
     ]
    }
   ],
   "source": [
    "c = 43                # integer type\n",
    "print(c)\n",
    "print(type(c))\n",
    "print('--> This is an integer type \\n')\n",
    "\n",
    "d = 57.34             # float type\n",
    "print(d)\n",
    "print(type(d))\n",
    "print('--> This is a float type \\n')\n",
    "\n",
    "e = 23 + 5j          # complex type\n",
    "print(e)\n",
    "print(type(e))\n",
    "print('--> This is a complex type \\n')\n",
    "\n",
    "f = int(d)\n",
    "print(f)             # using int function to convert the type to int\n",
    "print(type(f))\n",
    "print('--> d is converted to integer and assigned to f \\n')\n",
    "\n",
    "k = float(c)         # using float function to convert the type to float\n",
    "print(k)\n",
    "print(type(k))\n",
    "print('--> c is converted to integer and assigned to f \\n')\n",
    "\n",
    "i = complex(c,f)     # creating a complex variable by passing 2 variables\n",
    "print(i)\n",
    "print(type(i))\n",
    "print('--> complex number is created from c and f \\n')\n",
    "\n",
    "\n",
    "m = c>d              # boolian type - in python, it is numeric because it can be converted to 0 or 1\n",
    "print(m)\n",
    "print(type(m))\n",
    "print('--> This is boolian type got by checking a condition whether c>d \\n')\n",
    "\n",
    "print(int(m))        # boolian coversion is: false=0, and true=1\n",
    "print('--> boolian m(false) is converted to integer(0) \\n')\n",
    "\n",
    "\n",
    "bool = True          # boolean can be directly assigned\n",
    "print(bool)\n",
    "print('--> Directly assigned boolian \\n')"
   ]
  },
  {
   "cell_type": "markdown",
   "metadata": {},
   "source": [
    "# 3. Sequence: List, Tuple, Set (values cannot repeat), String, Range\n"
   ]
  },
  {
   "cell_type": "code",
   "execution_count": 42,
   "metadata": {},
   "outputs": [
    {
     "name": "stdout",
     "output_type": "stream",
     "text": [
      "[12, 34, 23, 56]\n",
      "<class 'list'>\n",
      "--> This is list type \n",
      "\n",
      "(9934, 2737, 3988)\n",
      "<class 'tuple'>\n",
      "--> This is tuple type \n",
      "\n",
      "{'we', 'dh', 'ab', 'oy'}\n",
      "<class 'set'>\n",
      "--> This is set type \n",
      "\n",
      "range(0, 10)\n",
      "<class 'range'>\n",
      "--> This is range type \n",
      "\n",
      "[0, 1, 2, 3, 4, 5, 6, 7, 8, 9]\n",
      "<class 'list'>\n",
      "--> Range r is now converted to a list \n",
      "\n",
      "[2, 4, 6, 8, 10]\n",
      "<class 'list'>\n",
      "--> This is a list of a range of numbers from 2 to 20 with a step of 2 \n",
      "\n"
     ]
    }
   ],
   "source": [
    "list1 = [12,34,23,56]        # list type\n",
    "print(list1)\n",
    "print(type(list1))\n",
    "print('--> This is list type \\n')\n",
    "\n",
    "tuple1 = (9934,2737,3988)    # tuple type\n",
    "print(tuple1)\n",
    "print(type(tuple1))\n",
    "print('--> This is tuple type \\n')\n",
    "\n",
    "set1 = {'ab','dh','oy','we'}         # set type\n",
    "print(set1)\n",
    "print(type(set1))\n",
    "print('--> This is set type \\n')\n",
    "\n",
    "r = range(10)                # range type. NOTE this 10 is an index hence range is from 0-9 NOT 0-10\n",
    "print(r)\n",
    "print(type(r))\n",
    "print('--> This is range type \\n')\n",
    "\n",
    "list2 = list(range(10))      # convert range into list\n",
    "print(list2)\n",
    "print(type(list2))\n",
    "print('--> Range r is now converted to a list \\n')\n",
    "\n",
    "list3 = list(range(2,11,2))  # range from 2 to 20 with step 2 is converted to a list\n",
    "print(list3)\n",
    "print(type(list3))\n",
    "print('--> This is a list of a range of numbers from 2 to 20 with a step of 2 \\n')"
   ]
  },
  {
   "cell_type": "markdown",
   "metadata": {},
   "source": [
    "# 4. Dictionary (or called map/mapping) (keys cannot repeat, must be unique)"
   ]
  },
  {
   "cell_type": "code",
   "execution_count": 54,
   "metadata": {},
   "outputs": [
    {
     "name": "stdout",
     "output_type": "stream",
     "text": [
      "{'john': 'samsung', 'peter': 'motorola', 'mathew': 'nokia'}\n",
      "--> This is a dictionary \n",
      "\n",
      "dict_keys(['john', 'peter', 'mathew'])\n",
      "--> These are keys in the dictionary \n",
      "\n",
      "dict_values(['samsung', 'motorola', 'nokia'])\n",
      "--> These are values in the dictionary \n",
      "\n",
      "samsung\n",
      "--> This is value of key 'john' in the dictionary \n",
      "\n",
      "motorola\n",
      "--> Fetching the value of key 'peter' using get method \n",
      "\n"
     ]
    }
   ],
   "source": [
    "dict = {'john':'samsung', 'peter':'motorola', 'mathew':'nokia'}\n",
    "print(dict)\n",
    "print('--> This is a dictionary \\n')\n",
    "\n",
    "print(dict.keys())                # fetch the keys in the dictionary\n",
    "print('--> These are keys in the dictionary \\n')\n",
    "\n",
    "print(dict.values())              # fetch the values in the dictionary\n",
    "print('--> These are values in the dictionary \\n')\n",
    "\n",
    "print(dict['john'])               # fetch the value of a key\n",
    "print('--> This is value of key \\'john\\' in the dictionary \\n')\n",
    "\n",
    "print(dict.get('peter'))\n",
    "print('--> Fetching the value of key \\'peter\\' using get method \\n')\n"
   ]
  },
  {
   "cell_type": "markdown",
   "metadata": {},
   "source": [
    "# Operators-->\n",
    "# 1. Arithmatic Operators:\n",
    "Assignment\n",
    "Relational\n",
    "Logical\n",
    "Unary\n"
   ]
  },
  {
   "cell_type": "code",
   "execution_count": 71,
   "metadata": {},
   "outputs": [
    {
     "name": "stdout",
     "output_type": "stream",
     "text": [
      "Example of modulus: 7%2 is \n",
      "1\n",
      "\n",
      "\n",
      "Example of division to get only integer (neglecting all decimals): 7//2 is \n",
      "3\n",
      "\n",
      "\n"
     ]
    }
   ],
   "source": [
    "# Basic arithmatic operators are: + - * /\n",
    "# Operator for exponential denotion: **\n",
    "# Operator for modulus(remainder of a division): %  --> this is used to check if a number is even or odd\n",
    "# Operator for maximum integer number in the division (neglecting all the decimals): //\n",
    "\n",
    "print('Example of modulus: 7%2 is ')\n",
    "print(7%2)\n",
    "\n",
    "print('\\n')\n",
    "print('Example of division to get only integer (neglecting all decimals): 7//2 is ')\n",
    "print(7//2)\n",
    "print('\\n')\n"
   ]
  },
  {
   "cell_type": "markdown",
   "metadata": {},
   "source": [
    "# 2. Assignment Operator (=):"
   ]
  },
  {
   "cell_type": "code",
   "execution_count": 72,
   "metadata": {},
   "outputs": [
    {
     "name": "stdout",
     "output_type": "stream",
     "text": [
      "4 6\n"
     ]
    }
   ],
   "source": [
    "# x=x+2 and x+=2 are same\n",
    "# x=x-2 and x-=2 are same\n",
    "# x=x*2 and x*= 2 are same\n",
    "# x=x/2 and x/=2 are same\n",
    "\n",
    "p,q = 4,6              # multiple variables can be assigned with a comma\n",
    "print(p,q)"
   ]
  },
  {
   "cell_type": "markdown",
   "metadata": {},
   "source": [
    "# 3. Unary Operator(-):"
   ]
  },
  {
   "cell_type": "code",
   "execution_count": 75,
   "metadata": {},
   "outputs": [
    {
     "name": "stdout",
     "output_type": "stream",
     "text": [
      "4\n",
      "--> This is negation of p\n",
      "\n"
     ]
    }
   ],
   "source": [
    "# just used for negation\n",
    "p = -p\n",
    "print(p)\n",
    "print('--> This is negation of p\\n')"
   ]
  },
  {
   "cell_type": "markdown",
   "metadata": {},
   "source": [
    "# 4. Relational Operators:"
   ]
  },
  {
   "cell_type": "code",
   "execution_count": 77,
   "metadata": {},
   "outputs": [
    {
     "name": "stdout",
     "output_type": "stream",
     "text": [
      "Does a1 equals b1?\n",
      "False\n"
     ]
    }
   ],
   "source": [
    "# these are < > == <= >= !=\n",
    "\n",
    "a1, b1 = 5, 9\n",
    "\n",
    "print('Does a1 equals b1?')\n",
    "print(a1==b1)"
   ]
  },
  {
   "cell_type": "markdown",
   "metadata": {},
   "source": [
    "# 5. Logical Operators:"
   ]
  },
  {
   "cell_type": "code",
   "execution_count": 89,
   "metadata": {},
   "outputs": [
    {
     "name": "stdout",
     "output_type": "stream",
     "text": [
      "False\n",
      "--> Result of a locagical operators execution \n",
      "\n",
      "True\n",
      "--> negation of a2>b2 \n",
      "\n"
     ]
    }
   ],
   "source": [
    "# these are: and, or, not  --> Must be in small letters!\n",
    "a2,b2,c2,d2 = 3,7,3,6\n",
    "\n",
    "print(a2>b2 and c2==d2)\n",
    "print('--> Result of a locagical operators execution \\n')\n",
    "\n",
    "print(not a2>b2)\n",
    "print('--> negation of a2>b2 \\n')\n"
   ]
  },
  {
   "cell_type": "markdown",
   "metadata": {},
   "source": [
    "# Number System Conversions (bin, dec, hex,oct):"
   ]
  },
  {
   "cell_type": "code",
   "execution_count": 106,
   "metadata": {},
   "outputs": [
    {
     "name": "stdout",
     "output_type": "stream",
     "text": [
      "0b11001\n",
      "--> This is binary format of 25 and 0b denotes that it is binary \n",
      "\n",
      "0x2b\n",
      "--> This is hexa decimal format of 43 and 0x denotes that it is hexa decimal \n",
      "\n",
      "0o34\n",
      "--> This is an octal format of 28 and 0o denotes that it is octal \n",
      "\n",
      "677\n",
      "--> This is decimal format of a binary number: 0b01010100101 \n",
      "\n",
      "162495\n",
      "--> This is decimal format of a hexadecimal number: 0x27abf \n",
      "\n",
      "27804\n",
      "--> This is decimal format of an octal number: 0o66234 \n",
      "\n"
     ]
    }
   ],
   "source": [
    "# different number systems are: binary(0-1), decimal(0-9), octal(0-7), hexa decimal(0-9,a-f)\n",
    "# base for binary is 2\n",
    "# base for decimal is 10\n",
    "# base for octal is 8\n",
    "# base for hexa decimal is 16\n",
    "\n",
    "print(bin(25))             # convert decimal to binary using bin method. NOTE output will precede with 0b\n",
    "                           # 0b in output denotes it is a binary number\n",
    "print('--> This is binary format of 25 and 0b denotes that it is binary \\n')\n",
    "\n",
    "print(hex(43))             # convert decimal to hexadecimal using hex method. NOTE output will precede with 0x\n",
    "                           # 0x in output denotes it is a hexa decimal number\n",
    "print('--> This is hexa decimal format of 43 and 0x denotes that it is hexa decimal \\n')\n",
    "\n",
    "print(oct(28))             # convert decimal to octal using oct method. NOTE output will precede with 0o\n",
    "                           # 0o in output denotes it is an octal number\n",
    "print('--> This is an octal format of 28 and 0o denotes that it is octal \\n')\n",
    "\n",
    "print(0b01010100101)       # printing decimal value of a binary number. BUT HOW TO CONVERT IT and STORE????????\n",
    "print('--> This is decimal format of a binary number: 0b01010100101 \\n')\n",
    "\n",
    "print(0x27abf)             # printing decimal value of a hexa decimal number. BUT HOW TO CONVERT IT and STORE????????\n",
    "print('--> This is decimal format of a hexadecimal number: 0x27abf \\n')\n",
    "\n",
    "print(0o66234)             # printing decimal value of an octal number. BUT HOW TO CONVERT IT and STORE????????\n",
    "print('--> This is decimal format of an octal number: 0o66234 \\n')\n",
    "\n"
   ]
  },
  {
   "cell_type": "markdown",
   "metadata": {},
   "source": [
    "# Swap 2 variables:\n",
    "# -can be done either using third variable OR\n",
    "# -using"
   ]
  },
  {
   "cell_type": "code",
   "execution_count": 120,
   "metadata": {},
   "outputs": [
    {
     "name": "stdout",
     "output_type": "stream",
     "text": [
      "45 66\n",
      "--> These are values of a3 and b3 respectively \n",
      "\n",
      "66 45\n",
      "--> Values of a3 and b3 are now swapped using third variable \n",
      "\n",
      "45 66\n",
      "--> Values again swaped, but this time using 3 equations \n",
      "\n",
      "66 45\n",
      "--> Values again swaped, but this time using ^ (XOR) operator \n",
      "\n",
      "45 66\n",
      "--> Values again swaped, but this time using simple rotational method rot_two() \n",
      "\n"
     ]
    }
   ],
   "source": [
    "# swap 2 variables using third variable:\n",
    "\n",
    "a3,b3 = 45,66\n",
    "print(a3,b3)\n",
    "print('--> These are values of a3 and b3 respectively \\n')\n",
    "temp = a3              # set this temporary variable beacuse if we dont set it, the value of a3 would be lost\n",
    "a3 = b3\n",
    "b3 = temp\n",
    "print(a3,b3)\n",
    "print('--> Values of a3 and b3 are now swapped using third variable \\n')\n",
    "\n",
    "\n",
    "a3 = a3+b3             # swap values using 3 equations--> Main benefit over thord variable is it does not need\n",
    "b3 = a3-b3             # an additional third variable which is merely a garbage after swapping is done.\n",
    "a3 = a3-b3             # This memory wastage can be avoided using 3 equations method\n",
    "print(a3,b3)\n",
    "print('--> Values again swaped, but this time using 3 equations \\n')\n",
    "\n",
    "a3 = a3^b3             # swap values using ^(XOR) operator--> Main benefit over 3 equations is it does not waste\n",
    "b3 = a3^b3             # extra bits. This memory wastage can be avoided using ^(XOR) operator method\n",
    "a3 = a3^b3\n",
    "print(a3,b3)\n",
    "print('--> Values again swaped, but this time using ^ (XOR) operator \\n')\n",
    "\n",
    "a3,b3 = b3,a3          # this is best way to swap without wasting any memory! and this method is UNIQUE in python\n",
    "print(a3,b3)           # search for rot_two() method in google for more info\n",
    "print('--> Values again swaped, but this time using simple rotational method rot_two() \\n')"
   ]
  },
  {
   "cell_type": "markdown",
   "metadata": {},
   "source": [
    "# Bitwise Operators (~ & | ^ << >>): USE is UNCLEAR???\n",
    "# For all bitwise operators: convert to binary, calculate and comvert it back to decimal\n",
    "# 1. Complement (~):\n",
    "# 2. Bitwise AND, OR, XOR (& | ^):\n",
    "# 3. Left shift <<, right shift >> operators:"
   ]
  },
  {
   "cell_type": "code",
   "execution_count": 1,
   "metadata": {},
   "outputs": [
    {
     "name": "stdout",
     "output_type": "stream",
     "text": [
      "-13\n",
      "--> This is complement of 12 \n",
      "\n",
      "12\n",
      "--> This is the result of 12&13 \n",
      "\n",
      "13\n",
      "--> This is the result of 12|13 \n",
      "\n",
      "1\n",
      "--> This is the result of 12^13 \n",
      "\n",
      "98304\n",
      "--> This is the result of 12<<13 \n",
      "\n",
      "0\n",
      "--> This is the result of 12>>13 \n",
      "\n"
     ]
    }
   ],
   "source": [
    "print(~12)               # convert 12 into binary & then calculate its complement & again convert back to decimal\n",
    "                         # complement of 0 is 1 and vice versa\n",
    "print('--> This is complement of 12 \\n')\n",
    "\n",
    "print(12&13)             # convert 12,13 both into binary, calculate their AND result & again convert back to decimal\n",
    "                         # only 1&1=1 others are 0\n",
    "print('--> This is the result of 12&13 \\n')\n",
    "\n",
    "print(12|13)             # convert 12,13 both into binary, calculate their OR result & again convert back to decimal\n",
    "                         # only 0|0=0 others are 1\n",
    "print('--> This is the result of 12|13 \\n')\n",
    "\n",
    "print(12^13)             # convert 12,13 both into binary, calculate their XOR result & again convert back to decimal\n",
    "                         # only dicrete values yield 1 i.e. 0^1, 1^0 = 1 others are 0\n",
    "print('--> This is the result of 12^13 \\n')\n",
    "\n",
    "\n",
    "print(12<<13)            # convert 12,13 both into binary, left shift by 2 bits & again convert back to decimal\n",
    "                         # in left shift, we gain 2 bits\n",
    "print('--> This is the result of 12<<13 \\n')\n",
    "\n",
    "print(12>>13)            # convert 12,13 both into binary, right shift by 2 bits & again convert back to decimal\n",
    "                         # in right shift, we lose 2 bits\n",
    "print('--> This is the result of 12>>13 \\n')"
   ]
  },
  {
   "cell_type": "code",
   "execution_count": null,
   "metadata": {},
   "outputs": [],
   "source": []
  }
 ],
 "metadata": {
  "kernelspec": {
   "display_name": "Python 3",
   "language": "python",
   "name": "python3"
  },
  "language_info": {
   "codemirror_mode": {
    "name": "ipython",
    "version": 3
   },
   "file_extension": ".py",
   "mimetype": "text/x-python",
   "name": "python",
   "nbconvert_exporter": "python",
   "pygments_lexer": "ipython3",
   "version": "3.7.6"
  }
 },
 "nbformat": 4,
 "nbformat_minor": 4
}
